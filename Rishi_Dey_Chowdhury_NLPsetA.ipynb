{
 "cells": [
  {
   "cell_type": "markdown",
   "id": "83413848",
   "metadata": {},
   "source": [
    "# Binary Classification of Sentences"
   ]
  },
  {
   "cell_type": "markdown",
   "id": "e8f6134f",
   "metadata": {},
   "source": [
    "### Importing Necessary Libraries"
   ]
  },
  {
   "cell_type": "markdown",
   "id": "4810432a",
   "metadata": {},
   "source": [
    "TensorFlow framework is used to build the Binary Classification Model. Scikit-Learn provides us the metrics for the evaluation purpose."
   ]
  },
  {
   "cell_type": "code",
   "execution_count": 1,
   "id": "515e2fb1",
   "metadata": {},
   "outputs": [],
   "source": [
    "import numpy as np\n",
    "import tensorflow as tf\n",
    "from sklearn.metrics import f1_score, precision_score, recall_score"
   ]
  },
  {
   "cell_type": "markdown",
   "id": "0e1b9e9d",
   "metadata": {},
   "source": [
    "## Data"
   ]
  },
  {
   "cell_type": "markdown",
   "id": "64c8be48",
   "metadata": {},
   "source": [
    "The model is trained on the following very small amount of fabricated data."
   ]
  },
  {
   "cell_type": "code",
   "execution_count": 2,
   "id": "5fa4d029",
   "metadata": {},
   "outputs": [
    {
     "name": "stdout",
     "output_type": "stream",
     "text": [
      "Metal device set to: Apple M1 Max\n"
     ]
    },
    {
     "name": "stderr",
     "output_type": "stream",
     "text": [
      "2022-09-02 14:00:56.390700: I tensorflow/core/common_runtime/pluggable_device/pluggable_device_factory.cc:305] Could not identify NUMA node of platform GPU ID 0, defaulting to 0. Your kernel may not have been built with NUMA support.\n",
      "2022-09-02 14:00:56.390820: I tensorflow/core/common_runtime/pluggable_device/pluggable_device_factory.cc:271] Created TensorFlow device (/job:localhost/replica:0/task:0/device:GPU:0 with 0 MB memory) -> physical PluggableDevice (device: 0, name: METAL, pci bus id: <undefined>)\n"
     ]
    }
   ],
   "source": [
    "sentences = [\n",
    "    'you won a billion dollars , great work !',\n",
    "    'click here for cs685 midterm answers',\n",
    "    'read important cs685 news',\n",
    "    'send me your bank account info asap'\n",
    "]\n",
    "labels = tf.cast(np.array([1, 1, 0, 1]), dtype=tf.float32)"
   ]
  },
  {
   "cell_type": "markdown",
   "id": "b38b4d50",
   "metadata": {},
   "source": [
    "## Data Preparation"
   ]
  },
  {
   "cell_type": "markdown",
   "id": "19c3b9a4",
   "metadata": {},
   "source": [
    "We set the word embedding dimension and maximum number of tokens allowed per sequence below. We use the `Tokenizer` from TensorFlow for tokenization and padding the sentences. We set the vocabulary size to $9999 + 1$ most frequent words and the CLS token. Since, the Max length of tokenized sentences is set to $10$, CLS token is assigned the id $10000$."
   ]
  },
  {
   "cell_type": "code",
   "execution_count": 3,
   "id": "8919ee34",
   "metadata": {},
   "outputs": [],
   "source": [
    "EMBED_DIM = 128 # The word embedding dimension\n",
    "MAX_LEN = 10 # The max length of the sentences\n",
    "VOCAB_SIZE = 10000 # Vocabulary Size\n",
    "CLS_TOKEN = VOCAB_SIZE # In this case we assign CLS_TOKEN to token ID 10000"
   ]
  },
  {
   "cell_type": "markdown",
   "id": "584985bf",
   "metadata": {},
   "source": [
    "Tokenization of the sentence makes token embedding possible. We keep the embedding layer trainable here and don't use any pre-trained word embeddings. A large training set would generate optimal and reliable word embedding for the classification task."
   ]
  },
  {
   "cell_type": "code",
   "execution_count": 4,
   "id": "a4059c1d",
   "metadata": {},
   "outputs": [],
   "source": [
    "# Initializing Tokenizer, with the last id reserved for [CLS]\n",
    "tokenizer = tf.keras.preprocessing.text.Tokenizer(VOCAB_SIZE-1)\n",
    "# Training Tokenizer on training data\n",
    "tokenizer.fit_on_texts(sentences)\n",
    "# Tokenized and converted to ids\n",
    "train_data = tokenizer.texts_to_sequences(sentences)\n",
    "train_data = [[CLS_TOKEN] + seq for seq in train_data]\n",
    "# Post padding and post truncating the sequence \n",
    "train_data = tf.keras.utils.pad_sequences(train_data, maxlen=MAX_LEN, truncating='post', padding='post')\n",
    "train_data = tf.cast(train_data, dtype=tf.float32)"
   ]
  },
  {
   "cell_type": "markdown",
   "id": "d87c1bb8",
   "metadata": {},
   "source": [
    "## Model Building"
   ]
  },
  {
   "cell_type": "markdown",
   "id": "51db7b5b",
   "metadata": {},
   "source": [
    "## Task-1"
   ]
  },
  {
   "cell_type": "markdown",
   "id": "b8a215a7",
   "metadata": {},
   "source": [
    "The following are the model parameters"
   ]
  },
  {
   "cell_type": "code",
   "execution_count": 5,
   "id": "85daf3d6",
   "metadata": {},
   "outputs": [],
   "source": [
    "POS_ENC_ANGLE_DENO = 10000 # Denominator angle in Positional Encoding\n",
    "NUM_ENC_LAYERS =  2 # Number of Encoder Blocks or Layers\n",
    "NUM_HEADS =  2 # Number of heads\n",
    "EMBED_DIM = 100 # Embedding Dimension\n",
    "FEED_FORWARD_DIM = 32 # Feed Forward NNs number of units in hidden layer\n",
    "DROPOUT_RATE = 0.1 # Dropout Rate\n",
    "MAX_LEN = 10 # Max length of each tokenized sentence\n",
    "BATCH_SIZE = 4 # Training Batch Size\n",
    "EPOCHS = 10 # Number of epochs to train model"
   ]
  },
  {
   "cell_type": "markdown",
   "id": "73e34838",
   "metadata": {},
   "source": [
    "We calculate the positional encoding for each word vector using,\n",
    "$$PE_{(pos, 2i)} = \\sin(pos/10000^{2i/d_{model}})$$\n",
    "$$PE_{(pos, 2i+1)} = \\cos(pos/10000^{2i/d_{model}})$$\n",
    "where, $2i$, $2i+1$ is the index in the column of the word embedding vector and $pos$ is the position of the word in the padded tokenized sequence."
   ]
  },
  {
   "cell_type": "code",
   "execution_count": 6,
   "id": "1b3af46a",
   "metadata": {},
   "outputs": [],
   "source": [
    "def pos_enc(max_len, d_model):\n",
    "    # returns the positional encoding matrix which needs to be added to the embedding matrix\n",
    "    angles = np.arange(max_len)[:, np.newaxis] / np.power(POS_ENC_ANGLE_DENO, 2*(np.arange(d_model)[np.newaxis, :]//2/np.float32(d_model)))\n",
    "    pos_encode = np.zeros((max_len, d_model))\n",
    "    pos_encode[:, 0::2] = np.sin(angles[:, 0::2])\n",
    "    pos_encode[:, 1::2] = np.cos(angles[:, 1::2])\n",
    "    return tf.cast(pos_encode[np.newaxis, :], dtype=tf.float32)"
   ]
  },
  {
   "cell_type": "markdown",
   "id": "ae3fda82",
   "metadata": {},
   "source": [
    "We calculate the padding mask which is basically the same as the original padding mask just that it has $2$ extra dimensions to make up for the dimension corresponding to the heads and embedding vector length in the heads."
   ]
  },
  {
   "cell_type": "code",
   "execution_count": 7,
   "id": "c8773807",
   "metadata": {},
   "outputs": [],
   "source": [
    "def pad_mask(mat):\n",
    "    # recasts the sequence with little different dimensions and generates padding mask\n",
    "    mask = tf.cast(tf.math.equal(mat, 0), dtype=tf.float32)\n",
    "    return mask[:, tf.newaxis, tf.newaxis, :]"
   ]
  },
  {
   "cell_type": "markdown",
   "id": "e20c9800",
   "metadata": {},
   "source": [
    "We compute the attention score of each word with the other word using the query vector, key vector and value vector for each word which when stacked forms the $Q$, $K$ and $V$ matrices. The attention vector (stacked to form attention matrix) is calculated using the scaled dot product attention formula given by,\n",
    "$$Attention(Q,K,V) = softmax_k(\\frac{QK^T}{\\sqrt{d_k}})V$$"
   ]
  },
  {
   "cell_type": "code",
   "execution_count": 8,
   "id": "380bf3e3",
   "metadata": {},
   "outputs": [],
   "source": [
    "def scaled_dot_prod_attn(q, k, v, mask):\n",
    "    # returns the scaled dot product attention based on queries, keys and values and mask\n",
    "    qk = tf.matmul(q, k, transpose_b=True) # calculates the numerator of the softmax input\n",
    "    dk = tf.cast(tf.shape(k)[-1], dtype=tf.float32)\n",
    "    pre_softmax = qk / tf.sqrt(dk) # calculates the angle input into softmax\n",
    "    if mask is not None:\n",
    "        pre_softmax += (mask * 1e-9) # padding mask as softmax would give almost zero for these positions\n",
    "    attn_wts = tf.nn.softmax(pre_softmax, axis=-1) # attention weights per word for other words\n",
    "    final_attention = tf.matmul(attn_wts, v) # value vectors weighted average with attention weights\n",
    "    return final_attention"
   ]
  },
  {
   "cell_type": "markdown",
   "id": "2e827fd9",
   "metadata": {},
   "source": [
    "Now, the Q, K and V matrix are linearly transformed to learn the nature of queries, keys and values across various representations in different subspace. For each of these representations the attentions are calculated as mentioned above in the different heads and these are then stacked together to be passed to the next layers."
   ]
  },
  {
   "cell_type": "code",
   "execution_count": 9,
   "id": "308ea081",
   "metadata": {},
   "outputs": [],
   "source": [
    "class MHA(tf.keras.layers.Layer):\n",
    "    # class for multi-head attention\n",
    "    def __init__(self, *, d_model, num_heads):\n",
    "        super().__init__()\n",
    "        self.num_heads = num_heads\n",
    "        self.d_model = d_model\n",
    "        \n",
    "        assert d_model % num_heads == 0 # checks if split of d_model is position among heads\n",
    "        self.d_head = self.d_model // self.num_heads\n",
    "        \n",
    "        self.linear_q = tf.keras.layers.Dense(self.d_model)\n",
    "        self.linear_k = tf.keras.layers.Dense(self.d_model)\n",
    "        self.linear_v = tf.keras.layers.Dense(self.d_model)\n",
    "        \n",
    "        self.dense = tf.keras.layers.Dense(d_model)\n",
    "        \n",
    "    def div_heads(self, dat, batch_size):\n",
    "        dat = tf.reshape(dat, (batch_size, -1, self.num_heads, self.d_head))\n",
    "        return tf.transpose(dat, perm=[0, 2, 1, 3])\n",
    "    \n",
    "    def call(self, V, K, Q, mask):\n",
    "        batch_size = tf.shape(Q)[0]\n",
    "        \n",
    "        # Linear Transformation for different representation in different heads\n",
    "        Q = self.linear_q(Q)\n",
    "        K = self.linear_k(K)\n",
    "        V = self.linear_v(V)\n",
    "        \n",
    "        # split K, Q, V matrix among heads\n",
    "        q = self.div_heads(Q, batch_size)\n",
    "        k = self.div_heads(K, batch_size)\n",
    "        v = self.div_heads(V, batch_size)\n",
    "        \n",
    "        # calculate the scaled dot product in each head\n",
    "        scaled_attn = scaled_dot_prod_attn(q, k, v, mask)\n",
    "        scaled_attn = tf.transpose(scaled_attn, perm=[0, 2, 1, 3])\n",
    "        # concatenate the attention vectors from each head\n",
    "        concat_attn = tf.reshape(scaled_attn, (batch_size, -1, self.d_model)) \n",
    "        \n",
    "        final_output = self.dense(concat_attn)\n",
    "        return final_output"
   ]
  },
  {
   "cell_type": "markdown",
   "id": "25db2058",
   "metadata": {},
   "source": [
    "After the attentions are being calculated, we need some non-linearity in our model as uptil now we had no source of non-linearity in our model. That is where we pass these attention vectors generated from MHA is passed through the Feedforward Neural Network."
   ]
  },
  {
   "cell_type": "code",
   "execution_count": 10,
   "id": "a80d73db",
   "metadata": {},
   "outputs": [],
   "source": [
    "def post_MHA_FF_Net(d_model, d_ff):\n",
    "    # returns the post MHA feed forward neural network\n",
    "    FF_Net = tf.keras.Sequential([\n",
    "        tf.keras.layers.Dense(d_ff, activation='relu'),\n",
    "        tf.keras.layers.Dense(d_model)\n",
    "    ])\n",
    "    return FF_Net"
   ]
  },
  {
   "cell_type": "markdown",
   "id": "bbd9f740",
   "metadata": {},
   "source": [
    "Now, the above computation i.e. Multi-Headed Attention followed by Feed Forward Neural Network (with skip connections across both MHA and Feed Forward part) forms a single layer/block of the Encoder part of a Transformer."
   ]
  },
  {
   "cell_type": "code",
   "execution_count": 11,
   "id": "4bc00390",
   "metadata": {},
   "outputs": [],
   "source": [
    "class EncoderLayer(tf.keras.layers.Layer):\n",
    "    # returns the model where MHA, skip connection, batch norm and feed forward network, skip connection and batch norm is added\n",
    "    def __init__(self, *, d_model, num_heads, num_nodes, drop_rate=0.1):\n",
    "        super().__init__()\n",
    "        \n",
    "        self.mha = MHA(d_model=d_model, num_heads=num_heads)\n",
    "        self.ffn = post_MHA_FF_Net(d_model, num_nodes)\n",
    "        \n",
    "        self.layernorm1 = tf.keras.layers.LayerNormalization(epsilon=1e-6)\n",
    "        self.layernorm2 = tf.keras.layers.LayerNormalization(epsilon=1e-6)\n",
    "        \n",
    "        self.dropout1 = tf.keras.layers.Dropout(drop_rate)\n",
    "        self.dropout2 = tf.keras.layers.Dropout(drop_rate)\n",
    "        \n",
    "    def call(self, x, train, mask):\n",
    "        # calculating the multi head attention\n",
    "        attn_output = self.mha(x, x, x, mask)\n",
    "        attn_output = self.dropout1(attn_output, training=train)\n",
    "        output1 = self.layernorm1(x + attn_output) # skip connection\n",
    "        \n",
    "        # feeding the concatenated attention matrix output of MHA into Feed-Forward Network\n",
    "        ffn_output = self.ffn(output1)\n",
    "        ffn_output = self.dropout2(ffn_output, training = train)\n",
    "        final_output = self.layernorm2(x + ffn_output) # skip connection\n",
    "        return final_output"
   ]
  },
  {
   "cell_type": "markdown",
   "id": "6e41185d",
   "metadata": {},
   "source": [
    "We repeat the Encoder Block twice, as decided in our parameter after the positional encoding is added to the word embedding matrix to build the final Encoder part of the Transformer."
   ]
  },
  {
   "cell_type": "code",
   "execution_count": 12,
   "id": "1fc4b78b",
   "metadata": {},
   "outputs": [],
   "source": [
    "class Encoder(tf.keras.layers.Layer):\n",
    "    # returns model which takes the embeddings as input along with mask and adds positional encoding \n",
    "    # and 2 encoder blocks\n",
    "    def __init__(self, *, num_layers, vocab_size, embed_dim, d_model, max_len, num_heads, num_nodes, drop_rate=0.1):\n",
    "        super().__init__()\n",
    "        \n",
    "        self.vocab_size = vocab_size\n",
    "        self.embed_dim = embed_dim\n",
    "        self.d_model = d_model\n",
    "        self.max_len = max_len\n",
    "        self.num_layers = num_layers\n",
    "        self.pos_encoding = pos_enc(MAX_LEN, self.d_model)\n",
    "        self.embedding = tf.keras.layers.Embedding(vocab_size, d_model, input_length=max_len)\n",
    "        self.enc_layers = [\n",
    "            EncoderLayer(d_model=d_model, num_heads=num_heads, num_nodes=num_nodes, drop_rate=drop_rate)\n",
    "            for _ in range(num_layers)\n",
    "        ]\n",
    "        \n",
    "        self.dropout = tf.keras.layers.Dropout(drop_rate)\n",
    "        \n",
    "    def call(self, x, train=True):\n",
    "        sent_len = tf.shape(x)[1]\n",
    "        mask = pad_mask(x) # creating padding mask\n",
    "        x *= tf.math.sqrt(tf.cast(self.d_model, dtype=tf.float32))\n",
    "        x = self.embedding(x) # trainable word embeddings\n",
    "        x += self.pos_encoding[:, :sent_len, :] # adding positional encoding\n",
    "        \n",
    "        x = self.dropout(x, training=train)\n",
    "        # passing the embedded and position encoded data through 1st encoder layer and the output is passed through\n",
    "        # another encoder layer\n",
    "        for i in range(self.num_layers):\n",
    "            x = self.enc_layers[i](x, train, mask)\n",
    "        \n",
    "        return x"
   ]
  },
  {
   "cell_type": "markdown",
   "id": "995070dc",
   "metadata": {},
   "source": [
    "Now, as mentioned earlier the model inputs are going to be the sequence of token ids."
   ]
  },
  {
   "cell_type": "code",
   "execution_count": 13,
   "id": "3198a7ed",
   "metadata": {},
   "outputs": [],
   "source": [
    "input1 = tf.keras.layers.Input(shape=(MAX_LEN,)) # Sequence of token ids as input with padding upto MAX_LEN\n",
    "transformer = Encoder(\n",
    "    num_layers=NUM_ENC_LAYERS, \n",
    "    vocab_size=VOCAB_SIZE,\n",
    "    embed_dim=EMBED_DIM,\n",
    "    d_model=EMBED_DIM, \n",
    "    max_len=MAX_LEN,\n",
    "    num_heads=NUM_HEADS, \n",
    "    num_nodes=FEED_FORWARD_DIM, \n",
    "    drop_rate=DROPOUT_RATE\n",
    ")"
   ]
  },
  {
   "cell_type": "markdown",
   "id": "685d1a8c",
   "metadata": {},
   "source": [
    "The Encoder block learns a feature vector for each word which assists the classification. For classification we take the representation vector output by transformer for the CLS token. This concise vector is now passed through another feed forward neural network with dropouts and finally is hooked up with a $2$ neuron output layer with softmax activation. Where the first neuron corresponds to the predicted probability of the sentence belonging to the label $0$ and the second neuron corresponds to that for the label $1$."
   ]
  },
  {
   "cell_type": "code",
   "execution_count": 14,
   "id": "4322af5e",
   "metadata": {},
   "outputs": [],
   "source": [
    "# For classification we take the CLS representation from the transformer and feeds them into the following\n",
    "# feed forward network for classification\n",
    "x = transformer(input1, True)\n",
    "x = x[:, 0, :] # Extracting the output feature vector for the [CLS] token i.e. 10000 token id\n",
    "x = tf.keras.layers.Dropout(DROPOUT_RATE)(x)\n",
    "x = tf.keras.layers.Dense(FEED_FORWARD_DIM, activation='relu')(x) # Feed Forward Network for classification\n",
    "x = tf.keras.layers.Dropout(DROPOUT_RATE)(x)\n",
    "output = tf.keras.layers.Dense(2, activation='softmax')(x) # 0th unit corresponds to label 0 and 1st unit to label 1"
   ]
  },
  {
   "cell_type": "code",
   "execution_count": 15,
   "id": "90b8198c",
   "metadata": {},
   "outputs": [],
   "source": [
    "model = tf.keras.Model(inputs=input1, outputs=output)"
   ]
  },
  {
   "cell_type": "markdown",
   "id": "73a426a9",
   "metadata": {},
   "source": [
    "The following summarizes our model."
   ]
  },
  {
   "cell_type": "code",
   "execution_count": 16,
   "id": "54d11d31",
   "metadata": {},
   "outputs": [
    {
     "data": {
      "image/png": "[encoded data removed]",
      "text/plain": [
       "<IPython.core.display.Image object>"
      ]
     },
     "execution_count": 16,
     "metadata": {},
     "output_type": "execute_result"
    }
   ],
   "source": [
    "tf.keras.utils.plot_model(model)"
   ]
  },
  {
   "cell_type": "code",
   "execution_count": 17,
   "id": "dfb179b6",
   "metadata": {},
   "outputs": [
    {
     "name": "stdout",
     "output_type": "stream",
     "text": [
      "Model: \"model\"\n",
      "_________________________________________________________________\n",
      " Layer (type)                Output Shape              Param #   \n",
      "=================================================================\n",
      " input_1 (InputLayer)        [(None, 10)]              0         \n",
      "                                                                 \n",
      " encoder (Encoder)           (None, 10, 100)           1094664   \n",
      "                                                                 \n",
      " tf.__operators__.getitem (S  (None, 100)              0         \n",
      " licingOpLambda)                                                 \n",
      "                                                                 \n",
      " dropout_5 (Dropout)         (None, 100)               0         \n",
      "                                                                 \n",
      " dense_12 (Dense)            (None, 32)                3232      \n",
      "                                                                 \n",
      " dropout_6 (Dropout)         (None, 32)                0         \n",
      "                                                                 \n",
      " dense_13 (Dense)            (None, 2)                 66        \n",
      "                                                                 \n",
      "=================================================================\n",
      "Total params: 1,097,962\n",
      "Trainable params: 1,097,962\n",
      "Non-trainable params: 0\n",
      "_________________________________________________________________\n"
     ]
    }
   ],
   "source": [
    "model.summary()"
   ]
  },
  {
   "cell_type": "markdown",
   "id": "1a7d73b6",
   "metadata": {},
   "source": [
    "The model is trained using the Adam Optimizer and the loss function chosen is the sparse categorical crossentropy as the true labels are scaler numbers. Batch Size of $4$ was used and the model was trained for $10$ epochs."
   ]
  },
  {
   "cell_type": "code",
   "execution_count": 18,
   "id": "7c4c2f2f",
   "metadata": {},
   "outputs": [
    {
     "name": "stdout",
     "output_type": "stream",
     "text": [
      "Epoch 1/10\n"
     ]
    },
    {
     "name": "stderr",
     "output_type": "stream",
     "text": [
      "2022-09-02 14:00:57.141009: W tensorflow/core/platform/profile_utils/cpu_utils.cc:128] Failed to get CPU frequency: 0 Hz\n",
      "2022-09-02 14:00:57.891168: I tensorflow/core/grappler/optimizers/custom_graph_optimizer_registry.cc:113] Plugin optimizer for device_type GPU is enabled.\n"
     ]
    },
    {
     "name": "stdout",
     "output_type": "stream",
     "text": [
      "1/1 [==============================] - 1s 1s/step - loss: 0.4237 - accuracy: 0.7500\n",
      "Epoch 2/10\n",
      "1/1 [==============================] - 0s 32ms/step - loss: 0.8229 - accuracy: 0.5000\n",
      "Epoch 3/10\n",
      "1/1 [==============================] - 0s 20ms/step - loss: 0.5966 - accuracy: 0.7500\n",
      "Epoch 4/10\n",
      "1/1 [==============================] - 0s 24ms/step - loss: 0.4253 - accuracy: 0.7500\n",
      "Epoch 5/10\n",
      "1/1 [==============================] - 0s 21ms/step - loss: 0.9058 - accuracy: 0.5000\n",
      "Epoch 6/10\n",
      "1/1 [==============================] - 0s 22ms/step - loss: 0.6854 - accuracy: 0.5000\n",
      "Epoch 7/10\n",
      "1/1 [==============================] - 0s 22ms/step - loss: 0.6857 - accuracy: 0.5000\n",
      "Epoch 8/10\n",
      "1/1 [==============================] - 0s 22ms/step - loss: 0.5769 - accuracy: 0.5000\n",
      "Epoch 9/10\n",
      "1/1 [==============================] - 0s 20ms/step - loss: 0.6085 - accuracy: 0.7500\n",
      "Epoch 10/10\n",
      "1/1 [==============================] - 0s 21ms/step - loss: 1.1029 - accuracy: 0.7500\n"
     ]
    }
   ],
   "source": [
    "# Training Model\n",
    "model.compile(optimizer='adam', loss='sparse_categorical_crossentropy', metrics=['accuracy'])\n",
    "history = model.fit(\n",
    "    train_data, labels, batch_size=BATCH_SIZE, epochs=EPOCHS\n",
    ")"
   ]
  },
  {
   "cell_type": "markdown",
   "id": "7e7d2e9c",
   "metadata": {},
   "source": [
    "### Evaluation"
   ]
  },
  {
   "cell_type": "markdown",
   "id": "563f4b4f",
   "metadata": {},
   "source": [
    "We generate the prediction probabilities from the above trained model."
   ]
  },
  {
   "cell_type": "code",
   "execution_count": 19,
   "id": "d540a24f",
   "metadata": {},
   "outputs": [
    {
     "name": "stdout",
     "output_type": "stream",
     "text": [
      "1/1 [==============================] - 0s 391ms/step\n"
     ]
    },
    {
     "name": "stderr",
     "output_type": "stream",
     "text": [
      "2022-09-02 14:00:58.887708: I tensorflow/core/grappler/optimizers/custom_graph_optimizer_registry.cc:113] Plugin optimizer for device_type GPU is enabled.\n"
     ]
    }
   ],
   "source": [
    "pred_class_probs = model.predict(train_data) # Model Predictions"
   ]
  },
  {
   "cell_type": "markdown",
   "id": "6207b020",
   "metadata": {},
   "source": [
    "The probability of each sentence being label 0 or 1 as output by model is shown below."
   ]
  },
  {
   "cell_type": "code",
   "execution_count": 20,
   "id": "8a1f79e5",
   "metadata": {},
   "outputs": [
    {
     "data": {
      "text/plain": [
       "array([[0.1075457 , 0.8924543 ],\n",
       "       [0.12181864, 0.87818134],\n",
       "       [0.05293028, 0.94706976],\n",
       "       [0.06887323, 0.93112683]], dtype=float32)"
      ]
     },
     "execution_count": 20,
     "metadata": {},
     "output_type": "execute_result"
    }
   ],
   "source": [
    "pred_class_probs # The probability of the sentences being label 0 or label 1"
   ]
  },
  {
   "cell_type": "markdown",
   "id": "56c632ea",
   "metadata": {},
   "source": [
    "We take the index of the maximum of the two predicted probabilities for each sentence to be the predicted label of that sentence."
   ]
  },
  {
   "cell_type": "code",
   "execution_count": 21,
   "id": "abc8b243",
   "metadata": {},
   "outputs": [],
   "source": [
    "pred_labels = np.argmax(pred_class_probs, axis=-1) # Model output is maximum of the two probabilities"
   ]
  },
  {
   "cell_type": "markdown",
   "id": "8d35c482",
   "metadata": {},
   "source": [
    "It can be seen that the model predicts with accuracy $0.75$ all the labels. But ofcourse our model is not well trained due to very small training data and the model performance on train data only is unreliable estimate of the actual model performance."
   ]
  },
  {
   "cell_type": "code",
   "execution_count": 22,
   "id": "ee04e91e",
   "metadata": {},
   "outputs": [
    {
     "data": {
      "text/plain": [
       "array([1, 1, 1, 1])"
      ]
     },
     "execution_count": 22,
     "metadata": {},
     "output_type": "execute_result"
    }
   ],
   "source": [
    "pred_labels"
   ]
  },
  {
   "cell_type": "markdown",
   "id": "64c321ec",
   "metadata": {},
   "source": [
    "The precision score, recall score and the F1 score is reported below."
   ]
  },
  {
   "cell_type": "code",
   "execution_count": 23,
   "id": "a889313c",
   "metadata": {},
   "outputs": [
    {
     "name": "stdout",
     "output_type": "stream",
     "text": [
      "*** Model Performance ***\n",
      "Precision Score: 0.75\n",
      "Recall Score: 1.0\n",
      "F1 Score: 0.8571428571428571\n"
     ]
    }
   ],
   "source": [
    "print(\"*** Model Performance ***\")\n",
    "print(\"Precision Score:\", precision_score(labels, pred_labels))\n",
    "print(\"Recall Score:\", recall_score(labels, pred_labels))\n",
    "print(\"F1 Score:\", f1_score(labels, pred_labels))"
   ]
  },
  {
   "cell_type": "markdown",
   "id": "0195b2bd",
   "metadata": {},
   "source": [
    "## Task-2"
   ]
  },
  {
   "cell_type": "markdown",
   "id": "a3a0c3ab",
   "metadata": {},
   "source": [
    "We will now simply use the transformer architechture constructed step-by-step ahead and will increase the number of heads to $10$."
   ]
  },
  {
   "cell_type": "code",
   "execution_count": 24,
   "id": "957f0664",
   "metadata": {},
   "outputs": [],
   "source": [
    "NUM_HEADS = 10 # Number of heads increased to 10"
   ]
  },
  {
   "cell_type": "code",
   "execution_count": 25,
   "id": "ce4b47ad",
   "metadata": {},
   "outputs": [],
   "source": [
    "input1 = tf.keras.layers.Input(shape=(MAX_LEN,)) # Sequence of token ids as input with padding upto MAX_LEN\n",
    "transformer = Encoder(\n",
    "    num_layers=NUM_ENC_LAYERS, \n",
    "    vocab_size=VOCAB_SIZE,\n",
    "    embed_dim=EMBED_DIM,\n",
    "    d_model=EMBED_DIM, \n",
    "    max_len=MAX_LEN,\n",
    "    num_heads=NUM_HEADS, \n",
    "    num_nodes=FEED_FORWARD_DIM, \n",
    "    drop_rate=DROPOUT_RATE\n",
    ")"
   ]
  },
  {
   "cell_type": "code",
   "execution_count": 26,
   "id": "144d7502",
   "metadata": {},
   "outputs": [],
   "source": [
    "# For classification we take the CLS representation from the transformer and feeds them into the following\n",
    "# feed forward network for classification\n",
    "x = transformer(input1, True)\n",
    "x = x[:, 0, :] # Extracting the output feature vector for the [CLS] token i.e. 10000 token id\n",
    "x = tf.keras.layers.Dropout(DROPOUT_RATE)(x)\n",
    "x = tf.keras.layers.Dense(FEED_FORWARD_DIM, activation='relu')(x) # Feed Forward Network for classification\n",
    "x = tf.keras.layers.Dropout(DROPOUT_RATE)(x)\n",
    "output = tf.keras.layers.Dense(2, activation='softmax')(x) # 0th unit corresponds to label 0 and 1st unit to label 1"
   ]
  },
  {
   "cell_type": "code",
   "execution_count": 27,
   "id": "c79668b9",
   "metadata": {},
   "outputs": [],
   "source": [
    "model = tf.keras.Model(inputs=input1, outputs=output)"
   ]
  },
  {
   "cell_type": "markdown",
   "id": "16a9eac6",
   "metadata": {},
   "source": [
    "tf.keras.utils.plot_model(model)"
   ]
  },
  {
   "cell_type": "code",
   "execution_count": 28,
   "id": "7a515204",
   "metadata": {},
   "outputs": [
    {
     "data": {
      "image/png": "[encoded data removed]",
      "text/plain": [
       "<IPython.core.display.Image object>"
      ]
     },
     "execution_count": 28,
     "metadata": {},
     "output_type": "execute_result"
    }
   ],
   "source": [
    "tf.keras.utils.plot_model(model)"
   ]
  },
  {
   "cell_type": "code",
   "execution_count": 29,
   "id": "7426cbe7",
   "metadata": {},
   "outputs": [
    {
     "name": "stdout",
     "output_type": "stream",
     "text": [
      "Model: \"model_1\"\n",
      "_________________________________________________________________\n",
      " Layer (type)                Output Shape              Param #   \n",
      "=================================================================\n",
      " input_2 (InputLayer)        [(None, 10)]              0         \n",
      "                                                                 \n",
      " encoder_1 (Encoder)         (None, 10, 100)           1094664   \n",
      "                                                                 \n",
      " tf.__operators__.getitem_1   (None, 100)              0         \n",
      " (SlicingOpLambda)                                               \n",
      "                                                                 \n",
      " dropout_12 (Dropout)        (None, 100)               0         \n",
      "                                                                 \n",
      " dense_26 (Dense)            (None, 32)                3232      \n",
      "                                                                 \n",
      " dropout_13 (Dropout)        (None, 32)                0         \n",
      "                                                                 \n",
      " dense_27 (Dense)            (None, 2)                 66        \n",
      "                                                                 \n",
      "=================================================================\n",
      "Total params: 1,097,962\n",
      "Trainable params: 1,097,962\n",
      "Non-trainable params: 0\n",
      "_________________________________________________________________\n"
     ]
    }
   ],
   "source": [
    "model.summary()"
   ]
  },
  {
   "cell_type": "code",
   "execution_count": 36,
   "id": "fdf703b7",
   "metadata": {},
   "outputs": [
    {
     "name": "stdout",
     "output_type": "stream",
     "text": [
      "Epoch 1/10\n"
     ]
    },
    {
     "name": "stderr",
     "output_type": "stream",
     "text": [
      "2022-09-02 14:02:45.816078: I tensorflow/core/grappler/optimizers/custom_graph_optimizer_registry.cc:113] Plugin optimizer for device_type GPU is enabled.\n"
     ]
    },
    {
     "name": "stdout",
     "output_type": "stream",
     "text": [
      "1/1 [==============================] - 1s 1s/step - loss: 0.5839 - accuracy: 0.7500\n",
      "Epoch 2/10\n",
      "1/1 [==============================] - 0s 24ms/step - loss: 0.5798 - accuracy: 0.7500\n",
      "Epoch 3/10\n",
      "1/1 [==============================] - 0s 21ms/step - loss: 0.6178 - accuracy: 0.7500\n",
      "Epoch 4/10\n",
      "1/1 [==============================] - 0s 29ms/step - loss: 0.5721 - accuracy: 0.7500\n",
      "Epoch 5/10\n",
      "1/1 [==============================] - 0s 51ms/step - loss: 0.5193 - accuracy: 0.7500\n",
      "Epoch 6/10\n",
      "1/1 [==============================] - 0s 23ms/step - loss: 0.8109 - accuracy: 0.7500\n",
      "Epoch 7/10\n",
      "1/1 [==============================] - 0s 20ms/step - loss: 0.5051 - accuracy: 0.7500\n",
      "Epoch 8/10\n",
      "1/1 [==============================] - 0s 27ms/step - loss: 0.6034 - accuracy: 0.7500\n",
      "Epoch 9/10\n",
      "1/1 [==============================] - 0s 21ms/step - loss: 0.7403 - accuracy: 0.7500\n",
      "Epoch 10/10\n",
      "1/1 [==============================] - 0s 47ms/step - loss: 0.5181 - accuracy: 0.7500\n"
     ]
    }
   ],
   "source": [
    "# Training Model\n",
    "model.compile(optimizer='adam', loss='sparse_categorical_crossentropy', metrics=['accuracy'])\n",
    "history = model.fit(\n",
    "    train_data, labels, batch_size=BATCH_SIZE, epochs=EPOCHS\n",
    ")"
   ]
  },
  {
   "cell_type": "markdown",
   "id": "1d024a9c",
   "metadata": {},
   "source": [
    "### Evaluation"
   ]
  },
  {
   "cell_type": "code",
   "execution_count": 31,
   "id": "57b5371c",
   "metadata": {},
   "outputs": [
    {
     "name": "stderr",
     "output_type": "stream",
     "text": [
      "2022-09-02 14:01:01.197151: I tensorflow/core/grappler/optimizers/custom_graph_optimizer_registry.cc:113] Plugin optimizer for device_type GPU is enabled.\n"
     ]
    },
    {
     "name": "stdout",
     "output_type": "stream",
     "text": [
      "1/1 [==============================] - 0s 437ms/step\n"
     ]
    }
   ],
   "source": [
    "pred_class_probs = model.predict(train_data) # Model predictions"
   ]
  },
  {
   "cell_type": "code",
   "execution_count": 32,
   "id": "ac44a21b",
   "metadata": {},
   "outputs": [],
   "source": [
    "pred_labels = np.argmax(pred_class_probs, axis=-1) # Model output is maximum of the two probabilities"
   ]
  },
  {
   "cell_type": "code",
   "execution_count": 33,
   "id": "05bea365",
   "metadata": {},
   "outputs": [
    {
     "data": {
      "text/plain": [
       "array([1, 1, 1, 1])"
      ]
     },
     "execution_count": 33,
     "metadata": {},
     "output_type": "execute_result"
    }
   ],
   "source": [
    "pred_labels"
   ]
  },
  {
   "cell_type": "code",
   "execution_count": 34,
   "id": "f69781bc",
   "metadata": {},
   "outputs": [
    {
     "name": "stdout",
     "output_type": "stream",
     "text": [
      "*** Model Performance ***\n",
      "Precision Score: 0.75\n",
      "Recall Score: 1.0\n",
      "F1 Score: 0.8571428571428571\n"
     ]
    }
   ],
   "source": [
    "print(\"*** Model Performance ***\")\n",
    "print(\"Precision Score:\", precision_score(labels, pred_labels))\n",
    "print(\"Recall Score:\", recall_score(labels, pred_labels))\n",
    "print(\"F1 Score:\", f1_score(labels, pred_labels))"
   ]
  }
 ],
 "metadata": {
  "kernelspec": {
   "display_name": "Python 3 (ipykernel)",
   "language": "python",
   "name": "python3"
  },
  "language_info": {
   "codemirror_mode": {
    "name": "ipython",
    "version": 3
   },
   "file_extension": ".py",
   "mimetype": "text/x-python",
   "name": "python",
   "nbconvert_exporter": "python",
   "pygments_lexer": "ipython3",
   "version": "3.8.13"
  }
 },
 "nbformat": 4,
 "nbformat_minor": 5
}
